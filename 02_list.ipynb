{
  "nbformat": 4,
  "nbformat_minor": 0,
  "metadata": {
    "colab": {
      "provenance": [],
      "authorship_tag": "ABX9TyPlWjIJvztAz8mTcWVThL1N",
      "include_colab_link": true
    },
    "kernelspec": {
      "name": "python3",
      "display_name": "Python 3"
    },
    "language_info": {
      "name": "python"
    }
  },
  "cells": [
    {
      "cell_type": "markdown",
      "metadata": {
        "id": "view-in-github",
        "colab_type": "text"
      },
      "source": [
        "<a href=\"https://colab.research.google.com/github/HARISSHEIKH99/assingment_4/blob/main/02_list.ipynb\" target=\"_parent\"><img src=\"https://colab.research.google.com/assets/colab-badge.svg\" alt=\"Open In Colab\"/></a>"
      ]
    },
    {
      "cell_type": "code",
      "execution_count": 6,
      "metadata": {
        "colab": {
          "base_uri": "https://localhost:8080/"
        },
        "id": "B80aPcOlYDMt",
        "outputId": "40daa1e4-9b99-42a8-bc22-01095fde72b7"
      },
      "outputs": [
        {
          "output_type": "stream",
          "name": "stdout",
          "text": [
            "01_add_many_numbers\n",
            "15\n"
          ]
        }
      ],
      "source": [
        "print(\"01_add_many_numbers\")\n",
        "\n",
        "def add_number(numbers)->int:\n",
        "  num:int = 0\n",
        "  for i in numbers:\n",
        "    num += i\n",
        "  return num\n",
        "\n",
        "def main():\n",
        "  numbers:list[int] = [1,2,3,4,5]\n",
        "  sum = add_number(numbers)\n",
        "  print(sum)\n",
        "\n",
        "if __name__ == \"__main__\":\n",
        "  main()"
      ]
    },
    {
      "cell_type": "code",
      "source": [
        "print(\"02_double_list\")\n",
        "\n",
        "def main():\n",
        "  numbers:list[int] = [1,2,3,4,5]\n",
        "  for i in range(len(numbers)):\n",
        "    index = numbers[i]\n",
        "    numbers[i] = index * 2\n",
        "  print(numbers)\n",
        "\n",
        "if __name__ == \"__main__\":\n",
        "  main()"
      ],
      "metadata": {
        "colab": {
          "base_uri": "https://localhost:8080/"
        },
        "id": "e65pvCNCZgTN",
        "outputId": "2d717d48-1ba9-47cb-d399-e67626e0c08b"
      },
      "execution_count": 7,
      "outputs": [
        {
          "output_type": "stream",
          "name": "stdout",
          "text": [
            "02_double_list\n",
            "[2, 4, 6, 8, 10]\n"
          ]
        }
      ]
    },
    {
      "cell_type": "code",
      "source": [
        "print(\"04_flowing_with_data_structure\")\n",
        "\n",
        "def add_three_copies(lst,data):\n",
        "  for i in range(3):\n",
        "    lst.append(data)\n",
        "\n",
        "def main():\n",
        "  message = input(\"Enter a message to copy.\")\n",
        "  lst = []\n",
        "  print(\"Before list:\", lst)\n",
        "  add_three_copies(lst,message)\n",
        "  print(\"After list:\" , lst)\n",
        "\n",
        "if __name__ == \"__main__\":\n",
        "  main()"
      ],
      "metadata": {
        "colab": {
          "base_uri": "https://localhost:8080/"
        },
        "id": "ixRmNpcsaRXn",
        "outputId": "4cb319fd-8f00-4ee8-b313-ae3938e542fc"
      },
      "execution_count": 8,
      "outputs": [
        {
          "output_type": "stream",
          "name": "stdout",
          "text": [
            "04_flowing_with_data_structure\n",
            "Enter a message to copy.hello\n",
            "Before list: []\n",
            "After list: ['hello', 'hello', 'hello']\n"
          ]
        }
      ]
    },
    {
      "cell_type": "code",
      "source": [
        "from re import L\n",
        "print(\"05_get_first_element\")\n",
        "\n",
        "def get_first_element(lst):\n",
        "  print(lst[0])\n",
        "\n",
        "def get_lst():\n",
        "  lst = []\n",
        "  element:str = input(\"Enter element add to the list.\")\n",
        "  while element != \"\":\n",
        "    lst.append(element)\n",
        "    element = input(\"Enter an element add to the list. \")\n",
        "  return lst\n",
        "\n",
        "def main():\n",
        "  lst = get_lst()\n",
        "  get_first_element(lst)\n",
        "\n",
        "if __name__ == \"__main__\":\n",
        "  main()\n",
        "\n",
        "\n"
      ],
      "metadata": {
        "colab": {
          "base_uri": "https://localhost:8080/"
        },
        "id": "DlajEpxZcPEE",
        "outputId": "65f18680-c4a4-4202-aaba-fed2c57ab3d6"
      },
      "execution_count": 9,
      "outputs": [
        {
          "output_type": "stream",
          "name": "stdout",
          "text": [
            "05_get_first_element\n",
            "Enter element add to the list.a\n",
            "Enter an element add to the list. y\n",
            "Enter an element add to the list. e\n",
            "Enter an element add to the list. s\n",
            "Enter an element add to the list. h\n",
            "Enter an element add to the list. \n",
            "a\n"
          ]
        }
      ]
    },
    {
      "cell_type": "code",
      "source": [
        "print(\"06_get_last_element\")\n",
        "\n",
        "def get_last_element(lst):\n",
        "  print(lst[-1])\n",
        "\n",
        "def get_lst():\n",
        "  lst = []\n",
        "  element:str = input(\"Enter element add to the list.\")\n",
        "  while element != \"\":\n",
        "    lst.append(element)\n",
        "    element = input(\"Enter an element add to the list. \")\n",
        "  return lst\n",
        "\n",
        "def main():\n",
        "  lst = get_lst()\n",
        "  get_last_element(lst)\n",
        "\n",
        "if __name__ == \"__main__\":\n",
        "  main()\n",
        "\n",
        "\n",
        "\n"
      ],
      "metadata": {
        "colab": {
          "base_uri": "https://localhost:8080/"
        },
        "id": "bnvSLqU9dj6G",
        "outputId": "54f342fb-7704-4371-cae3-d55be85cbb72"
      },
      "execution_count": 10,
      "outputs": [
        {
          "output_type": "stream",
          "name": "stdout",
          "text": [
            "06_get_last_element\n",
            "Enter element add to the list.a\n",
            "Enter an element add to the list. y\n",
            "Enter an element add to the list. e\n",
            "Enter an element add to the list. s\n",
            "Enter an element add to the list. h\n",
            "Enter an element add to the list. a\n",
            "Enter an element add to the list. h\n",
            "Enter an element add to the list. a\n",
            "Enter an element add to the list. r\n",
            "Enter an element add to the list. i\n",
            "Enter an element add to the list. s\n",
            "Enter an element add to the list. f\n",
            "Enter an element add to the list. f\n",
            "Enter an element add to the list. f\n",
            "Enter an element add to the list. \n",
            "f\n"
          ]
        }
      ]
    },
    {
      "cell_type": "code",
      "source": [
        "print(\"07_get_list\")\n",
        "\n",
        "\n",
        "def main():\n",
        "  lst = []\n",
        "  val = input(\"Enter a value to add to the list. \")\n",
        "  while val:\n",
        "    lst.append(val)\n",
        "    val = input(\"Enter a val to add to the list.\")\n",
        "  print(\"Here's the list: \",lst)\n",
        "\n",
        "if __name__ == \"__main__\":\n",
        "  main()\n",
        "\n"
      ],
      "metadata": {
        "colab": {
          "base_uri": "https://localhost:8080/"
        },
        "id": "EJH45hUrehOs",
        "outputId": "04ba7d12-f7c2-4ae9-d1de-dcaf87e102dc"
      },
      "execution_count": 11,
      "outputs": [
        {
          "output_type": "stream",
          "name": "stdout",
          "text": [
            "07_get_list\n",
            "Enter a value to add to the list. ayesha\n",
            "Enter a val to add to the list.haris\n",
            "Enter a val to add to the list.hamza\n",
            "Enter a val to add to the list.\n",
            "Here's the list:  ['ayesha', 'haris', 'hamza']\n"
          ]
        }
      ]
    },
    {
      "cell_type": "code",
      "source": [
        "print(\"08_shorten_list\")\n",
        "\n",
        "max_length:int = 3\n",
        "def shorten(lst):\n",
        "  while len(lst) > max_length:\n",
        "    last_element = lst.pop()\n",
        "    print(last_element)\n",
        "\n",
        "def get_lst():\n",
        "  lst = []\n",
        "  element = input(\"Enter an element to add to the list.\")\n",
        "  while element != '':\n",
        "    lst.append(element)\n",
        "    element = input(\"Enter an element to add to the list. \")\n",
        "  return lst\n",
        "\n",
        "def main():\n",
        "  lst = get_lst()\n",
        "  shorten(lst)\n",
        "\n",
        "if __name__ == \"__main__\":\n",
        "  main()\n"
      ],
      "metadata": {
        "colab": {
          "base_uri": "https://localhost:8080/"
        },
        "id": "ObQ3FjewffqZ",
        "outputId": "39422fe6-6c53-4205-f862-96798a1e32e8"
      },
      "execution_count": 12,
      "outputs": [
        {
          "output_type": "stream",
          "name": "stdout",
          "text": [
            "08_shorten_list\n",
            "Enter an element to add to the list.a\n",
            "Enter an element to add to the list. y\n",
            "Enter an element to add to the list. es\n",
            "Enter an element to add to the list. h\n",
            "Enter an element to add to the list. a\n",
            "Enter an element to add to the list. \n",
            "a\n",
            "h\n"
          ]
        }
      ]
    }
  ]
}