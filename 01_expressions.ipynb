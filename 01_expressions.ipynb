{
  "nbformat": 4,
  "nbformat_minor": 0,
  "metadata": {
    "colab": {
      "provenance": [],
      "authorship_tag": "ABX9TyPgylGcRQGseRjJ1u6m9owE",
      "include_colab_link": true
    },
    "kernelspec": {
      "name": "python3",
      "display_name": "Python 3"
    },
    "language_info": {
      "name": "python"
    }
  },
  "cells": [
    {
      "cell_type": "markdown",
      "metadata": {
        "id": "view-in-github",
        "colab_type": "text"
      },
      "source": [
        "<a href=\"https://colab.research.google.com/github/HARISSHEIKH99/assingment_4/blob/main/01_expressions.ipynb\" target=\"_parent\"><img src=\"https://colab.research.google.com/assets/colab-badge.svg\" alt=\"Open In Colab\"/></a>"
      ]
    },
    {
      "cell_type": "code",
      "execution_count": 5,
      "metadata": {
        "colab": {
          "base_uri": "https://localhost:8080/"
        },
        "id": "b38u7XmvL6ci",
        "outputId": "606ffaeb-0265-4510-d7d4-29f58ea150a1"
      },
      "outputs": [
        {
          "output_type": "stream",
          "name": "stdout",
          "text": [
            "01_dicesmulaor\n",
            "die1 in main() start as:10\n",
            "Total of two dies: 9\n",
            "Total of two dies: 8\n",
            "Total of two dies: 5\n",
            "die1 in main() is:10\n"
          ]
        }
      ],
      "source": [
        "import random\n",
        "print(\"01_dicesmulaor\")\n",
        "\n",
        "def roll_dice():\n",
        "  die1:int = random.randint(1,6)\n",
        "  die2:int = random.randint(1,6)\n",
        "  total:int = die1 + die2\n",
        "  print(f'Total of two dies: {total}')\n",
        "\n",
        "def main():\n",
        "  die1:int = 10\n",
        "  print(\"die1 in main() start as:\" + str(die1))\n",
        "  roll_dice()\n",
        "  roll_dice()\n",
        "  roll_dice()\n",
        "  print(\"die1 in main() is:\" + str(die1))\n",
        "\n",
        "if __name__ == \"__main__\":\n",
        "  main()\n"
      ]
    },
    {
      "cell_type": "code",
      "source": [
        "print(\"02_e=mc2\")\n",
        "\n",
        "def energy():\n",
        "  c:float = 299792458\n",
        "  m:float = float(input(\"Enter kilos of mass: \"))\n",
        "  print(\"e = m*c^2\")\n",
        "  print(\"Mass = \" + str(m) + \"kg\")\n",
        "  print(\"c = \" + str(c) + \"m/s\")\n",
        "  print(\"e = \" + str(m * c ** 2) + \"joles\")\n",
        "\n",
        "if __name__ == \"__main__\":\n",
        "  energy()\n",
        "\n"
      ],
      "metadata": {
        "colab": {
          "base_uri": "https://localhost:8080/"
        },
        "id": "A-ilwng0Pbuf",
        "outputId": "f2cf1aba-a9f5-4892-fc0d-f6f1dca24ebd"
      },
      "execution_count": 9,
      "outputs": [
        {
          "output_type": "stream",
          "name": "stdout",
          "text": [
            "02_e=mc2\n",
            "Enter kilos of mass: 130\n",
            "e = m*c^2\n",
            "Mass = 130.0kg\n",
            "c = 299792458m/s\n",
            "e = 1.1683817323578628e+19joles\n"
          ]
        }
      ]
    },
    {
      "cell_type": "code",
      "source": [
        "print(\"03_feet_to_inches\")\n",
        "\n",
        "inch:int = 12\n",
        "\n",
        "def foot():\n",
        "  feet:int = int(input(\"Enter feet and i will convert into inches: \"))\n",
        "  print(f'There are { inch * feet} inches in {feet} feet.')\n",
        "\n",
        "if __name__ == \"__main__\":\n",
        "  foot()"
      ],
      "metadata": {
        "colab": {
          "base_uri": "https://localhost:8080/"
        },
        "id": "C4JZbXKJSXNK",
        "outputId": "7a637709-5608-4336-8978-8c7d5107ea31"
      },
      "execution_count": 10,
      "outputs": [
        {
          "output_type": "stream",
          "name": "stdout",
          "text": [
            "03_feet_to_inches\n",
            "Enter feet and i will convert into inches: 45\n",
            "There are 540 inches in 45 feet.\n"
          ]
        }
      ]
    },
    {
      "cell_type": "code",
      "source": [
        "import math\n",
        "print(\"04_pythagorean_theorm\")\n",
        "\n",
        "def triangle():\n",
        "  ab:float = float(input(\"Enter the length of the side ab. \"))\n",
        "  ac:float = float(input(\"Enter the length of the side ac. \"))\n",
        "  bc:float = math.sqrt(ab**2 + ac**2)\n",
        "  print(f'THe length of bc(the hypothnase is :{bc} )')\n",
        "\n",
        "if __name__ == \"__main__\":\n",
        "  triangle()"
      ],
      "metadata": {
        "colab": {
          "base_uri": "https://localhost:8080/"
        },
        "id": "8CC61V9FTztG",
        "outputId": "7f02ef03-3c97-40ab-ce78-d9c4cf005bd3"
      },
      "execution_count": 12,
      "outputs": [
        {
          "output_type": "stream",
          "name": "stdout",
          "text": [
            "04_pythagorean_theorm\n",
            "Enter the length of the side ab. 4\n",
            "Enter the length of the side ac. 4\n",
            "THe length of bc(the hypothnase is :5.656854249492381 )\n"
          ]
        }
      ]
    },
    {
      "cell_type": "code",
      "source": [
        "print(\"05_remainder_diviion\")\n",
        "\n",
        "def reminder():\n",
        "  num1:int = int(input(\"Enter an integer to be divided: \"))\n",
        "  num2:int = int(input(\"Enter an integer to be divided by: \"))\n",
        "  quotlent:int = num1 // num2\n",
        "  reminder:int = num1 % num2\n",
        "  print(f'The reult of this division is {quotlent} with a reminder of {reminder}')\n",
        "\n",
        "if __name__ == \"__main__\":\n",
        "  reminder()"
      ],
      "metadata": {
        "colab": {
          "base_uri": "https://localhost:8080/"
        },
        "id": "gb3hMBP5WCKt",
        "outputId": "839a4398-c97b-4263-8141-681b1c10568d"
      },
      "execution_count": 15,
      "outputs": [
        {
          "output_type": "stream",
          "name": "stdout",
          "text": [
            "05_remainder_diviion\n",
            "Enter an integer to be divided: 44\n",
            "Enter an integer to be divided by: 9\n",
            "The reult of this division is 4 with a reminder of 8\n"
          ]
        }
      ]
    },
    {
      "cell_type": "code",
      "source": [
        "import random\n",
        "print(\"06_rolldice.\")\n",
        "\n",
        "def dice():\n",
        "  die1:int = random.randint(1,6)\n",
        "  die2:int = random.randint(1,6)\n",
        "  total:int = int(die1 + die2)\n",
        "  print(\"firt die:\" + str(die1))\n",
        "  print(\"econd die:\" + str(die2))\n",
        "  print(f'Total of two dies is  : {total}')\n",
        "\n",
        "if __name__ == \"__main__\":\n",
        "  dice()"
      ],
      "metadata": {
        "colab": {
          "base_uri": "https://localhost:8080/"
        },
        "id": "vwfTAzwkYHRc",
        "outputId": "a8003a3b-1cce-4cce-f724-bbe25fd0fc07"
      },
      "execution_count": 20,
      "outputs": [
        {
          "output_type": "stream",
          "name": "stdout",
          "text": [
            "06_rolldice.\n",
            "firt die:2\n",
            "econd die:5\n",
            "Total of two dies is  : 7\n"
          ]
        }
      ]
    },
    {
      "cell_type": "code",
      "source": [
        "print(\"07_seconds-in_year\")\n",
        "\n",
        "days:int = 365\n",
        "hours_per_day:int = 24\n",
        "minutes_per_hours:int = 60\n",
        "seconds_per_minute:int = 60\n",
        "\n",
        "def seconds():\n",
        "  print(f\"There are {days * hours_per_day * minutes_per_hours * seconds_per_minute} seconds in a year..\")\n",
        "\n",
        "if __name__ == \"__main__\":\n",
        "  seconds()\n",
        "\n",
        "\n",
        "\n",
        "\n"
      ],
      "metadata": {
        "colab": {
          "base_uri": "https://localhost:8080/"
        },
        "id": "6lWPFYXVZop0",
        "outputId": "c8ca485f-9645-4f7a-9e66-fa763da21a92"
      },
      "execution_count": 23,
      "outputs": [
        {
          "output_type": "stream",
          "name": "stdout",
          "text": [
            "07_seconds-in_year\n",
            "There are 31536000 seconds in a year..\n"
          ]
        }
      ]
    },
    {
      "cell_type": "code",
      "source": [
        "print(\"08_tiny_mad_lib\")\n",
        "\n",
        "def mad_lib():\n",
        "  noun:str = str(input(\"Enter a noun: \"))\n",
        "  adjective:str = str(input(\"Enter a adjective:\"))\n",
        "  verb:str = str(input(\"Enter a verb: \"))\n",
        "  print(f'Do you {verb} your {adjective} {noun}?')\n",
        "\n",
        "if __name__  ==  \"__main__\":\n",
        "  mad_lib()\n",
        "\n"
      ],
      "metadata": {
        "colab": {
          "base_uri": "https://localhost:8080/"
        },
        "id": "IV3RsHKocm11",
        "outputId": "61786800-60c2-4959-a928-249eac9c085e"
      },
      "execution_count": 31,
      "outputs": [
        {
          "output_type": "stream",
          "name": "stdout",
          "text": [
            "08_tiny_mad_lib\n",
            "Enter a noun: cat\n",
            "Enter a adjective:cute\n",
            "Enter a verb: sleep\n",
            "Do you sleep your cute cat?\n"
          ]
        }
      ]
    }
  ]
}